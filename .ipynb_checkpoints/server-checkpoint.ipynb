{
 "cells": [
  {
   "cell_type": "code",
   "execution_count": 2,
   "id": "expressed-conducting",
   "metadata": {},
   "outputs": [
    {
     "name": "stdout",
     "output_type": "stream",
     "text": [
      "Warning: Couldn't read data from file \"data.json\", this makes an empty POST.\r\n",
      "<!DOCTYPE HTML PUBLIC \"-//W3C//DTD HTML 3.2 Final//EN\">\r\n",
      "<title>400 Bad Request</title>\r\n",
      "<h1>Bad Request</h1>\r\n",
      "<p>Post JSON with property image</p>\r\n"
     ]
    }
   ],
   "source": [
    "!curl -d \"@data.json\" -X POST localhost:5000/featureencoder\n"
   ]
  },
  {
   "cell_type": "code",
   "execution_count": 5,
   "id": "varied-creator",
   "metadata": {},
   "outputs": [
    {
     "name": "stdout",
     "output_type": "stream",
     "text": [
      "<!DOCTYPE HTML PUBLIC \"-//W3C//DTD HTML 3.2 Final//EN\">\r\n",
      "<title>400 Bad Request</title>\r\n",
      "<h1>Bad Request</h1>\r\n",
      "<p>Post JSON with property image</p>\r\n"
     ]
    }
   ],
   "source": [
    "!curl -F \"image=@/home/jovyan/FeatureEncoder/shit.PNG\" -X POST localhost:5000/featureencoder"
   ]
  }
 ],
 "metadata": {
  "kernelspec": {
   "display_name": "Python 3",
   "language": "python",
   "name": "python3"
  },
  "language_info": {
   "codemirror_mode": {
    "name": "ipython",
    "version": 3
   },
   "file_extension": ".py",
   "mimetype": "text/x-python",
   "name": "python",
   "nbconvert_exporter": "python",
   "pygments_lexer": "ipython3",
   "version": "3.8.10"
  }
 },
 "nbformat": 4,
 "nbformat_minor": 5
}
